{
 "cells": [
  {
   "cell_type": "code",
   "execution_count": 11,
   "metadata": {},
   "outputs": [],
   "source": [
    "def normalisation(x):\n",
    "    \"\"\" \"\"\"\n",
    "    if x < 0.0:\n",
    "        return 0.0\n",
    "    elif x > 1.0:\n",
    "        return 1.0\n",
    "    else:\n",
    "        return x"
   ]
  },
  {
   "cell_type": "code",
   "execution_count": 15,
   "metadata": {},
   "outputs": [
    {
     "name": "stdout",
     "output_type": "stream",
     "text": [
      "[0. 0.]\n",
      "[1. 1.]\n"
     ]
    }
   ],
   "source": [
    "import copy\n",
    "import numpy as np\n",
    "\n",
    "x = np.array([2, 3])\n",
    "y = np.array([4, 5])\n",
    "lambd = 2\n",
    "\n",
    "x_copy = copy.deepcopy(x)\n",
    "y_copy = copy.deepcopy(y)\n",
    "\n",
    "add_norm = np.vectorize(normalisation)\n",
    "\n",
    "x_new = add_norm(x_copy - lambd * (y_copy - x_copy))\n",
    "y_new = add_norm(y_copy - lambd * (x_copy - y_copy))\n",
    "\n",
    "print(x_new)\n",
    "print(y_new)"
   ]
  },
  {
   "cell_type": "code",
   "execution_count": 17,
   "metadata": {},
   "outputs": [
    {
     "name": "stdout",
     "output_type": "stream",
     "text": [
      "[3 4 5]\n"
     ]
    }
   ],
   "source": [
    "print(np.array([5, 6, 7]) - np.array([2, 2, 2]))"
   ]
  },
  {
   "cell_type": "code",
   "execution_count": null,
   "metadata": {},
   "outputs": [],
   "source": []
  },
  {
   "cell_type": "code",
   "execution_count": null,
   "metadata": {},
   "outputs": [],
   "source": []
  }
 ],
 "metadata": {
  "kernelspec": {
   "display_name": "Python 3",
   "language": "python",
   "name": "python3"
  },
  "language_info": {
   "codemirror_mode": {
    "name": "ipython",
    "version": 3
   },
   "file_extension": ".py",
   "mimetype": "text/x-python",
   "name": "python",
   "nbconvert_exporter": "python",
   "pygments_lexer": "ipython3",
   "version": "3.11.0"
  },
  "orig_nbformat": 4,
  "vscode": {
   "interpreter": {
    "hash": "d641de2071e8708bc24f2f96b6c2e903694e024bc566219ec0448b0d0a1ff1b5"
   }
  }
 },
 "nbformat": 4,
 "nbformat_minor": 2
}
